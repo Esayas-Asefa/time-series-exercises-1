{
 "cells": [
  {
   "cell_type": "markdown",
   "id": "059129e9",
   "metadata": {},
   "source": [
    "df.melt will sort of transpose this data, giving every variable it's own column"
   ]
  },
  {
   "cell_type": "markdown",
   "id": "750df619",
   "metadata": {},
   "source": [
    "relational data is needed for database normalization, few data work with data like Tableau does"
   ]
  },
  {
   "cell_type": "markdown",
   "id": "b8c77073",
   "metadata": {},
   "source": [
    "problems with data, and you don't want to see:\n",
    "    multiple variables stored in one column\n",
    "    \n",
    "    in this case:\n",
    "        melt, and then split\n",
    "        \n",
    "   variables are stored in both rows and columns(?):\n",
    "       \n",
    "       in this case:\n",
    "           use df.pivot_table(index=['vairable1', 'date']\n",
    "           \n",
    "   \n",
    "   "
   ]
  },
  {
   "cell_type": "code",
   "execution_count": null,
   "id": "519935d7",
   "metadata": {},
   "outputs": [],
   "source": []
  }
 ],
 "metadata": {
  "kernelspec": {
   "display_name": "Python 3 (ipykernel)",
   "language": "python",
   "name": "python3"
  },
  "language_info": {
   "codemirror_mode": {
    "name": "ipython",
    "version": 3
   },
   "file_extension": ".py",
   "mimetype": "text/x-python",
   "name": "python",
   "nbconvert_exporter": "python",
   "pygments_lexer": "ipython3",
   "version": "3.9.13"
  }
 },
 "nbformat": 4,
 "nbformat_minor": 5
}
