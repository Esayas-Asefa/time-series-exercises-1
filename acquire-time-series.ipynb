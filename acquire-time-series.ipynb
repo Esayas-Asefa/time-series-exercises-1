{
 "cells": [
  {
   "cell_type": "code",
   "execution_count": 1,
   "id": "3a3d0440",
   "metadata": {},
   "outputs": [],
   "source": [
    "import requests\n",
    "import math\n",
    "import pandas as pd"
   ]
  },
  {
   "cell_type": "code",
   "execution_count": null,
   "id": "39f6cc98",
   "metadata": {},
   "outputs": [],
   "source": []
  },
  {
   "cell_type": "code",
   "execution_count": null,
   "id": "1b24fa30",
   "metadata": {},
   "outputs": [],
   "source": []
  },
  {
   "cell_type": "code",
   "execution_count": 2,
   "id": "5e327dab",
   "metadata": {
    "scrolled": true
   },
   "outputs": [
    {
     "name": "stdout",
     "output_type": "stream",
     "text": [
      "{\"count\":82,\"next\":\"https://swapi.dev/api/people/?page=2\",\"previous\":null,\"results\":[{\"name\":\"Luke Skywalker\",\"height\":\"172\",\"mass\":\"77\",\"hair_color\":\"blond\",\"skin_color\":\"fair\",\"eye_color\":\"blue\",\"birth_year\":\"19BBY\",\"gender\":\"male\",\"homeworld\":\"https://swapi.dev/api/planets/1/\",\"films\":[\"https://swapi.dev/api/films/1/\",\"https://swapi.dev/api/films/2/\",\"https://swapi.dev/api/films/3/\",\"https://swapi.dev/api/films/6/\"],\"species\":[],\"vehicles\":[\"https://swapi.dev/api/vehicles/14/\",\"https://swapi.dev/api/vehicles/30/\"],\"starships\":[\"https://swapi.dev/api/starships/12/\",\"https://swapi.dev/api/starships/22/\"],\"created\":\"2014-12-09T13:50:51.644000Z\",\"edited\":\"2014-12-20T21:17:56.891000Z\",\"url\":\"https://swapi.dev/api/people/1/\"},{\"name\":\"C-3PO\",\"height\":\"167\",\"mass\":\"75\",\"hair_color\":\"n/a\",\"skin_color\":\"gold\",\"eye_color\":\"yellow\",\"birth_year\":\"112BBY\",\"gender\":\"n/a\",\"homeworld\":\"https://swapi.dev/api/planets/1/\",\"films\":[\"https://swapi.dev/api/films/1/\",\"https://swapi.dev/api/films/2/\",\"https://swapi.dev/api/films/3/\",\"https://swapi.dev/api/films/4/\",\"https://swapi.dev/api/films/5/\",\"https://swapi.dev/api/films/6/\"],\"species\":[\"https://swapi.dev/api/species/2/\"],\"vehicles\":[],\"starships\":[],\"created\":\"2014-12-10T15:10:51.357000Z\",\"edited\":\"2014-12-20T21:17:50.309000Z\",\"url\":\"https://swapi.dev/api/people/2/\"},{\"name\":\"R2-D2\",\"height\":\"96\",\"mass\":\"32\",\"hair_color\":\"n/a\",\"skin_color\":\"white, blue\",\"eye_color\":\"red\",\"birth_year\":\"33BBY\",\"gender\":\"n/a\",\"homeworld\":\"https://swapi.dev/api/planets/8/\",\"films\":[\"https://swapi.dev/api/films/1/\",\"https://swapi.dev/api/films/2/\",\"https://swapi.dev/api/films/3/\",\"https://swapi.dev/api/films/4/\",\"https://swapi.dev/api/films/5/\",\"https://swapi.dev/api/films/6/\"],\"species\":[\"https://swapi.dev/api/species/2/\"],\"vehicles\":[],\"starships\":[],\"created\":\"2014-12-10T15:11:50.376000Z\",\"edited\":\"2014-12-20T21:17:50.311000Z\",\"url\":\"https://swapi.dev/api/people/3/\"},{\"name\":\"Darth Vader\",\"height\":\"202\",\"mass\":\"136\",\"hair_color\":\"none\",\"skin_color\":\"white\",\"eye_color\":\"yellow\",\"birth_year\":\"41.9BBY\",\"gender\":\"male\",\"homeworld\":\"https://swapi.dev/api/planets/1/\",\"films\":[\"https://swapi.dev/api/films/1/\",\"https://swapi.dev/api/films/2/\",\"https://swapi.dev/api/films/3/\",\"https://swapi.dev/api/films/6/\"],\"species\":[],\"vehicles\":[],\"starships\":[\"https://swapi.dev/api/starships/13/\"],\"created\":\"2014-12-10T15:18:20.704000Z\",\"edited\":\"2014-12-20T21:17:50.313000Z\",\"url\":\"https://swapi.dev/api/people/4/\"},{\"name\":\"Leia Organa\",\"height\":\"150\",\"mass\":\"49\",\"hair_color\":\"brown\",\"skin_color\":\"light\",\"eye_color\":\"brown\",\"birth_year\":\"19BBY\",\"gender\":\"female\",\"homeworld\":\"https://swapi.dev/api/planets/2/\",\"films\":[\"https://swapi.dev/api/films/1/\",\"https://swapi.dev/api/films/2/\",\"https://swapi.dev/api/films/3/\",\"https://swapi.dev/api/films/6/\"],\"species\":[],\"vehicles\":[\"https://swapi.dev/api/vehicles/30/\"],\"starships\":[],\"created\":\"2014-12-10T15:20:09.791000Z\",\"edited\":\"2014-12-20T21:17:50.315000Z\",\"url\":\"https://swapi.dev/api/people/5/\"},{\"name\":\"Owen Lars\",\"height\":\"178\",\"mass\":\"120\",\"hair_color\":\"brown, grey\",\"skin_color\":\"light\",\"eye_color\":\"blue\",\"birth_year\":\"52BBY\",\"gender\":\"male\",\"homeworld\":\"https://swapi.dev/api/planets/1/\",\"films\":[\"https://swapi.dev/api/films/1/\",\"https://swapi.dev/api/films/5/\",\"https://swapi.dev/api/films/6/\"],\"species\":[],\"vehicles\":[],\"starships\":[],\"created\":\"2014-12-10T15:52:14.024000Z\",\"edited\":\"2014-12-20T21:17:50.317000Z\",\"url\":\"https://swapi.dev/api/people/6/\"},{\"name\":\"Beru Whitesun lars\",\"height\":\"165\",\"mass\":\"75\",\"hair_color\":\"brown\",\"skin_color\":\"light\",\"eye_color\":\"blue\",\"birth_year\":\"47BBY\",\"gender\":\"female\",\"homeworld\":\"https://swapi.dev/api/planets/1/\",\"films\":[\"https://swapi.dev/api/films/1/\",\"https://swapi.dev/api/films/5/\",\"https://swapi.dev/api/films/6/\"],\"species\":[],\"vehicles\":[],\"starships\":[],\"created\":\"2014-12-10T15:53:41.121000Z\",\"edited\":\"2014-12-20T21:17:50.319000Z\",\"url\":\"https://swapi.dev/api/people/7/\"},{\"name\":\"R5-D4\",\"height\":\"97\",\"mass\":\"32\",\"hair_color\":\"n/a\",\"skin_color\":\"white, red\",\"eye_color\":\"red\",\"birth_year\":\"unknown\",\"gender\":\"n/a\",\"homeworld\":\"https://swapi.dev/api/planets/1/\",\"films\":[\"https://swapi.dev/api/films/1/\"],\"species\":[\"https://swapi.dev/api/species/2/\"],\"vehicles\":[],\"starships\":[],\"created\":\"2014-12-10T15:57:50.959000Z\",\"edited\":\"2014-12-20T21:17:50.321000Z\",\"url\":\"https://swapi.dev/api/people/8/\"},{\"name\":\"Biggs Darklighter\",\"height\":\"183\",\"mass\":\"84\",\"hair_color\":\"black\",\"skin_color\":\"light\",\"eye_color\":\"brown\",\"birth_year\":\"24BBY\",\"gender\":\"male\",\"homeworld\":\"https://swapi.dev/api/planets/1/\",\"films\":[\"https://swapi.dev/api/films/1/\"],\"species\":[],\"vehicles\":[],\"starships\":[\"https://swapi.dev/api/starships/12/\"],\"created\":\"2014-12-10T15:59:50.509000Z\",\"edited\":\"2014-12-20T21:17:50.323000Z\",\"url\":\"https://swapi.dev/api/people/9/\"},{\"name\":\"Obi-Wan Kenobi\",\"height\":\"182\",\"mass\":\"77\",\"hair_color\":\"auburn, white\",\"skin_color\":\"fair\",\"eye_color\":\"blue-gray\",\"birth_year\":\"57BBY\",\"gender\":\"male\",\"homeworld\":\"https://swapi.dev/api/planets/20/\",\"films\":[\"https://swapi.dev/api/films/1/\",\"https://swapi.dev/api/films/2/\",\"https://swapi.dev/api/films/3/\",\"https://swapi.dev/api/films/4/\",\"https://swapi.dev/api/films/5/\",\"https://swapi.dev/api/films/6/\"],\"species\":[],\"vehicles\":[\"https://swapi.dev/api/vehicles/38/\"],\"starships\":[\"https://swapi.dev/api/starships/48/\",\"https://swapi.dev/api/starships/59/\",\"https://swapi.dev/api/starships/64/\",\"https://swapi.dev/api/starships/65/\",\"https://swapi.dev/api/starships/74/\"],\"created\":\"2014-12-10T16:16:29.192000Z\",\"edited\":\"2014-12-20T21:17:50.325000Z\",\"url\":\"https://swapi.dev/api/people/10/\"}]}\n"
     ]
    }
   ],
   "source": [
    "response_1 = requests.get('https://swapi.dev/api/people')\n",
    "print(response_1.text)"
   ]
  },
  {
   "cell_type": "code",
   "execution_count": 19,
   "id": "cb3ddb5c",
   "metadata": {
    "scrolled": true
   },
   "outputs": [
    {
     "data": {
      "text/plain": [
       "{'count': 82,\n",
       " 'next': 'https://swapi.dev/api/people/?page=2',\n",
       " 'previous': None,\n",
       " 'results': [{'name': 'Luke Skywalker',\n",
       "   'height': '172',\n",
       "   'mass': '77',\n",
       "   'hair_color': 'blond',\n",
       "   'skin_color': 'fair',\n",
       "   'eye_color': 'blue',\n",
       "   'birth_year': '19BBY',\n",
       "   'gender': 'male',\n",
       "   'homeworld': 'https://swapi.dev/api/planets/1/',\n",
       "   'films': ['https://swapi.dev/api/films/1/',\n",
       "    'https://swapi.dev/api/films/2/',\n",
       "    'https://swapi.dev/api/films/3/',\n",
       "    'https://swapi.dev/api/films/6/'],\n",
       "   'species': [],\n",
       "   'vehicles': ['https://swapi.dev/api/vehicles/14/',\n",
       "    'https://swapi.dev/api/vehicles/30/'],\n",
       "   'starships': ['https://swapi.dev/api/starships/12/',\n",
       "    'https://swapi.dev/api/starships/22/'],\n",
       "   'created': '2014-12-09T13:50:51.644000Z',\n",
       "   'edited': '2014-12-20T21:17:56.891000Z',\n",
       "   'url': 'https://swapi.dev/api/people/1/'},\n",
       "  {'name': 'C-3PO',\n",
       "   'height': '167',\n",
       "   'mass': '75',\n",
       "   'hair_color': 'n/a',\n",
       "   'skin_color': 'gold',\n",
       "   'eye_color': 'yellow',\n",
       "   'birth_year': '112BBY',\n",
       "   'gender': 'n/a',\n",
       "   'homeworld': 'https://swapi.dev/api/planets/1/',\n",
       "   'films': ['https://swapi.dev/api/films/1/',\n",
       "    'https://swapi.dev/api/films/2/',\n",
       "    'https://swapi.dev/api/films/3/',\n",
       "    'https://swapi.dev/api/films/4/',\n",
       "    'https://swapi.dev/api/films/5/',\n",
       "    'https://swapi.dev/api/films/6/'],\n",
       "   'species': ['https://swapi.dev/api/species/2/'],\n",
       "   'vehicles': [],\n",
       "   'starships': [],\n",
       "   'created': '2014-12-10T15:10:51.357000Z',\n",
       "   'edited': '2014-12-20T21:17:50.309000Z',\n",
       "   'url': 'https://swapi.dev/api/people/2/'},\n",
       "  {'name': 'R2-D2',\n",
       "   'height': '96',\n",
       "   'mass': '32',\n",
       "   'hair_color': 'n/a',\n",
       "   'skin_color': 'white, blue',\n",
       "   'eye_color': 'red',\n",
       "   'birth_year': '33BBY',\n",
       "   'gender': 'n/a',\n",
       "   'homeworld': 'https://swapi.dev/api/planets/8/',\n",
       "   'films': ['https://swapi.dev/api/films/1/',\n",
       "    'https://swapi.dev/api/films/2/',\n",
       "    'https://swapi.dev/api/films/3/',\n",
       "    'https://swapi.dev/api/films/4/',\n",
       "    'https://swapi.dev/api/films/5/',\n",
       "    'https://swapi.dev/api/films/6/'],\n",
       "   'species': ['https://swapi.dev/api/species/2/'],\n",
       "   'vehicles': [],\n",
       "   'starships': [],\n",
       "   'created': '2014-12-10T15:11:50.376000Z',\n",
       "   'edited': '2014-12-20T21:17:50.311000Z',\n",
       "   'url': 'https://swapi.dev/api/people/3/'},\n",
       "  {'name': 'Darth Vader',\n",
       "   'height': '202',\n",
       "   'mass': '136',\n",
       "   'hair_color': 'none',\n",
       "   'skin_color': 'white',\n",
       "   'eye_color': 'yellow',\n",
       "   'birth_year': '41.9BBY',\n",
       "   'gender': 'male',\n",
       "   'homeworld': 'https://swapi.dev/api/planets/1/',\n",
       "   'films': ['https://swapi.dev/api/films/1/',\n",
       "    'https://swapi.dev/api/films/2/',\n",
       "    'https://swapi.dev/api/films/3/',\n",
       "    'https://swapi.dev/api/films/6/'],\n",
       "   'species': [],\n",
       "   'vehicles': [],\n",
       "   'starships': ['https://swapi.dev/api/starships/13/'],\n",
       "   'created': '2014-12-10T15:18:20.704000Z',\n",
       "   'edited': '2014-12-20T21:17:50.313000Z',\n",
       "   'url': 'https://swapi.dev/api/people/4/'},\n",
       "  {'name': 'Leia Organa',\n",
       "   'height': '150',\n",
       "   'mass': '49',\n",
       "   'hair_color': 'brown',\n",
       "   'skin_color': 'light',\n",
       "   'eye_color': 'brown',\n",
       "   'birth_year': '19BBY',\n",
       "   'gender': 'female',\n",
       "   'homeworld': 'https://swapi.dev/api/planets/2/',\n",
       "   'films': ['https://swapi.dev/api/films/1/',\n",
       "    'https://swapi.dev/api/films/2/',\n",
       "    'https://swapi.dev/api/films/3/',\n",
       "    'https://swapi.dev/api/films/6/'],\n",
       "   'species': [],\n",
       "   'vehicles': ['https://swapi.dev/api/vehicles/30/'],\n",
       "   'starships': [],\n",
       "   'created': '2014-12-10T15:20:09.791000Z',\n",
       "   'edited': '2014-12-20T21:17:50.315000Z',\n",
       "   'url': 'https://swapi.dev/api/people/5/'},\n",
       "  {'name': 'Owen Lars',\n",
       "   'height': '178',\n",
       "   'mass': '120',\n",
       "   'hair_color': 'brown, grey',\n",
       "   'skin_color': 'light',\n",
       "   'eye_color': 'blue',\n",
       "   'birth_year': '52BBY',\n",
       "   'gender': 'male',\n",
       "   'homeworld': 'https://swapi.dev/api/planets/1/',\n",
       "   'films': ['https://swapi.dev/api/films/1/',\n",
       "    'https://swapi.dev/api/films/5/',\n",
       "    'https://swapi.dev/api/films/6/'],\n",
       "   'species': [],\n",
       "   'vehicles': [],\n",
       "   'starships': [],\n",
       "   'created': '2014-12-10T15:52:14.024000Z',\n",
       "   'edited': '2014-12-20T21:17:50.317000Z',\n",
       "   'url': 'https://swapi.dev/api/people/6/'},\n",
       "  {'name': 'Beru Whitesun lars',\n",
       "   'height': '165',\n",
       "   'mass': '75',\n",
       "   'hair_color': 'brown',\n",
       "   'skin_color': 'light',\n",
       "   'eye_color': 'blue',\n",
       "   'birth_year': '47BBY',\n",
       "   'gender': 'female',\n",
       "   'homeworld': 'https://swapi.dev/api/planets/1/',\n",
       "   'films': ['https://swapi.dev/api/films/1/',\n",
       "    'https://swapi.dev/api/films/5/',\n",
       "    'https://swapi.dev/api/films/6/'],\n",
       "   'species': [],\n",
       "   'vehicles': [],\n",
       "   'starships': [],\n",
       "   'created': '2014-12-10T15:53:41.121000Z',\n",
       "   'edited': '2014-12-20T21:17:50.319000Z',\n",
       "   'url': 'https://swapi.dev/api/people/7/'},\n",
       "  {'name': 'R5-D4',\n",
       "   'height': '97',\n",
       "   'mass': '32',\n",
       "   'hair_color': 'n/a',\n",
       "   'skin_color': 'white, red',\n",
       "   'eye_color': 'red',\n",
       "   'birth_year': 'unknown',\n",
       "   'gender': 'n/a',\n",
       "   'homeworld': 'https://swapi.dev/api/planets/1/',\n",
       "   'films': ['https://swapi.dev/api/films/1/'],\n",
       "   'species': ['https://swapi.dev/api/species/2/'],\n",
       "   'vehicles': [],\n",
       "   'starships': [],\n",
       "   'created': '2014-12-10T15:57:50.959000Z',\n",
       "   'edited': '2014-12-20T21:17:50.321000Z',\n",
       "   'url': 'https://swapi.dev/api/people/8/'},\n",
       "  {'name': 'Biggs Darklighter',\n",
       "   'height': '183',\n",
       "   'mass': '84',\n",
       "   'hair_color': 'black',\n",
       "   'skin_color': 'light',\n",
       "   'eye_color': 'brown',\n",
       "   'birth_year': '24BBY',\n",
       "   'gender': 'male',\n",
       "   'homeworld': 'https://swapi.dev/api/planets/1/',\n",
       "   'films': ['https://swapi.dev/api/films/1/'],\n",
       "   'species': [],\n",
       "   'vehicles': [],\n",
       "   'starships': ['https://swapi.dev/api/starships/12/'],\n",
       "   'created': '2014-12-10T15:59:50.509000Z',\n",
       "   'edited': '2014-12-20T21:17:50.323000Z',\n",
       "   'url': 'https://swapi.dev/api/people/9/'},\n",
       "  {'name': 'Obi-Wan Kenobi',\n",
       "   'height': '182',\n",
       "   'mass': '77',\n",
       "   'hair_color': 'auburn, white',\n",
       "   'skin_color': 'fair',\n",
       "   'eye_color': 'blue-gray',\n",
       "   'birth_year': '57BBY',\n",
       "   'gender': 'male',\n",
       "   'homeworld': 'https://swapi.dev/api/planets/20/',\n",
       "   'films': ['https://swapi.dev/api/films/1/',\n",
       "    'https://swapi.dev/api/films/2/',\n",
       "    'https://swapi.dev/api/films/3/',\n",
       "    'https://swapi.dev/api/films/4/',\n",
       "    'https://swapi.dev/api/films/5/',\n",
       "    'https://swapi.dev/api/films/6/'],\n",
       "   'species': [],\n",
       "   'vehicles': ['https://swapi.dev/api/vehicles/38/'],\n",
       "   'starships': ['https://swapi.dev/api/starships/48/',\n",
       "    'https://swapi.dev/api/starships/59/',\n",
       "    'https://swapi.dev/api/starships/64/',\n",
       "    'https://swapi.dev/api/starships/65/',\n",
       "    'https://swapi.dev/api/starships/74/'],\n",
       "   'created': '2014-12-10T16:16:29.192000Z',\n",
       "   'edited': '2014-12-20T21:17:50.325000Z',\n",
       "   'url': 'https://swapi.dev/api/people/10/'}]}"
      ]
     },
     "execution_count": 19,
     "metadata": {},
     "output_type": "execute_result"
    }
   ],
   "source": [
    "data_people = response_1.json()\n",
    "data_people"
   ]
  },
  {
   "cell_type": "code",
   "execution_count": 8,
   "id": "51cf6b0f",
   "metadata": {
    "scrolled": true
   },
   "outputs": [
    {
     "name": "stdout",
     "output_type": "stream",
     "text": [
      "   count                                  next previous  \\\n",
      "0     82  https://swapi.dev/api/people/?page=2     None   \n",
      "1     82  https://swapi.dev/api/people/?page=2     None   \n",
      "2     82  https://swapi.dev/api/people/?page=2     None   \n",
      "3     82  https://swapi.dev/api/people/?page=2     None   \n",
      "4     82  https://swapi.dev/api/people/?page=2     None   \n",
      "5     82  https://swapi.dev/api/people/?page=2     None   \n",
      "6     82  https://swapi.dev/api/people/?page=2     None   \n",
      "7     82  https://swapi.dev/api/people/?page=2     None   \n",
      "8     82  https://swapi.dev/api/people/?page=2     None   \n",
      "9     82  https://swapi.dev/api/people/?page=2     None   \n",
      "\n",
      "                                             results  \n",
      "0  {'name': 'Luke Skywalker', 'height': '172', 'm...  \n",
      "1  {'name': 'C-3PO', 'height': '167', 'mass': '75...  \n",
      "2  {'name': 'R2-D2', 'height': '96', 'mass': '32'...  \n",
      "3  {'name': 'Darth Vader', 'height': '202', 'mass...  \n",
      "4  {'name': 'Leia Organa', 'height': '150', 'mass...  \n",
      "5  {'name': 'Owen Lars', 'height': '178', 'mass':...  \n",
      "6  {'name': 'Beru Whitesun lars', 'height': '165'...  \n",
      "7  {'name': 'R5-D4', 'height': '97', 'mass': '32'...  \n",
      "8  {'name': 'Biggs Darklighter', 'height': '183',...  \n",
      "9  {'name': 'Obi-Wan Kenobi', 'height': '182', 'm...  \n"
     ]
    }
   ],
   "source": [
    "df_people = pd.DataFrame(data_people)\n",
    "print(df_people)"
   ]
  },
  {
   "cell_type": "code",
   "execution_count": 11,
   "id": "0b83676f",
   "metadata": {},
   "outputs": [
    {
     "data": {
      "text/html": [
       "<div>\n",
       "<style scoped>\n",
       "    .dataframe tbody tr th:only-of-type {\n",
       "        vertical-align: middle;\n",
       "    }\n",
       "\n",
       "    .dataframe tbody tr th {\n",
       "        vertical-align: top;\n",
       "    }\n",
       "\n",
       "    .dataframe thead th {\n",
       "        text-align: right;\n",
       "    }\n",
       "</style>\n",
       "<table border=\"1\" class=\"dataframe\">\n",
       "  <thead>\n",
       "    <tr style=\"text-align: right;\">\n",
       "      <th></th>\n",
       "      <th>count</th>\n",
       "      <th>next</th>\n",
       "      <th>previous</th>\n",
       "      <th>results</th>\n",
       "    </tr>\n",
       "  </thead>\n",
       "  <tbody>\n",
       "    <tr>\n",
       "      <th>0</th>\n",
       "      <td>60</td>\n",
       "      <td>https://swapi.dev/api/planets/?page=2</td>\n",
       "      <td>None</td>\n",
       "      <td>{'name': 'Tatooine', 'rotation_period': '23', ...</td>\n",
       "    </tr>\n",
       "    <tr>\n",
       "      <th>1</th>\n",
       "      <td>60</td>\n",
       "      <td>https://swapi.dev/api/planets/?page=2</td>\n",
       "      <td>None</td>\n",
       "      <td>{'name': 'Alderaan', 'rotation_period': '24', ...</td>\n",
       "    </tr>\n",
       "    <tr>\n",
       "      <th>2</th>\n",
       "      <td>60</td>\n",
       "      <td>https://swapi.dev/api/planets/?page=2</td>\n",
       "      <td>None</td>\n",
       "      <td>{'name': 'Yavin IV', 'rotation_period': '24', ...</td>\n",
       "    </tr>\n",
       "    <tr>\n",
       "      <th>3</th>\n",
       "      <td>60</td>\n",
       "      <td>https://swapi.dev/api/planets/?page=2</td>\n",
       "      <td>None</td>\n",
       "      <td>{'name': 'Hoth', 'rotation_period': '23', 'orb...</td>\n",
       "    </tr>\n",
       "    <tr>\n",
       "      <th>4</th>\n",
       "      <td>60</td>\n",
       "      <td>https://swapi.dev/api/planets/?page=2</td>\n",
       "      <td>None</td>\n",
       "      <td>{'name': 'Dagobah', 'rotation_period': '23', '...</td>\n",
       "    </tr>\n",
       "  </tbody>\n",
       "</table>\n",
       "</div>"
      ],
      "text/plain": [
       "   count                                   next previous  \\\n",
       "0     60  https://swapi.dev/api/planets/?page=2     None   \n",
       "1     60  https://swapi.dev/api/planets/?page=2     None   \n",
       "2     60  https://swapi.dev/api/planets/?page=2     None   \n",
       "3     60  https://swapi.dev/api/planets/?page=2     None   \n",
       "4     60  https://swapi.dev/api/planets/?page=2     None   \n",
       "\n",
       "                                             results  \n",
       "0  {'name': 'Tatooine', 'rotation_period': '23', ...  \n",
       "1  {'name': 'Alderaan', 'rotation_period': '24', ...  \n",
       "2  {'name': 'Yavin IV', 'rotation_period': '24', ...  \n",
       "3  {'name': 'Hoth', 'rotation_period': '23', 'orb...  \n",
       "4  {'name': 'Dagobah', 'rotation_period': '23', '...  "
      ]
     },
     "execution_count": 11,
     "metadata": {},
     "output_type": "execute_result"
    }
   ],
   "source": [
    "df_planets.head()"
   ]
  },
  {
   "cell_type": "code",
   "execution_count": 5,
   "id": "e7d6e47e",
   "metadata": {
    "scrolled": true
   },
   "outputs": [
    {
     "name": "stdout",
     "output_type": "stream",
     "text": [
      "{\"count\":60,\"next\":\"https://swapi.dev/api/planets/?page=2\",\"previous\":null,\"results\":[{\"name\":\"Tatooine\",\"rotation_period\":\"23\",\"orbital_period\":\"304\",\"diameter\":\"10465\",\"climate\":\"arid\",\"gravity\":\"1 standard\",\"terrain\":\"desert\",\"surface_water\":\"1\",\"population\":\"200000\",\"residents\":[\"https://swapi.dev/api/people/1/\",\"https://swapi.dev/api/people/2/\",\"https://swapi.dev/api/people/4/\",\"https://swapi.dev/api/people/6/\",\"https://swapi.dev/api/people/7/\",\"https://swapi.dev/api/people/8/\",\"https://swapi.dev/api/people/9/\",\"https://swapi.dev/api/people/11/\",\"https://swapi.dev/api/people/43/\",\"https://swapi.dev/api/people/62/\"],\"films\":[\"https://swapi.dev/api/films/1/\",\"https://swapi.dev/api/films/3/\",\"https://swapi.dev/api/films/4/\",\"https://swapi.dev/api/films/5/\",\"https://swapi.dev/api/films/6/\"],\"created\":\"2014-12-09T13:50:49.641000Z\",\"edited\":\"2014-12-20T20:58:18.411000Z\",\"url\":\"https://swapi.dev/api/planets/1/\"},{\"name\":\"Alderaan\",\"rotation_period\":\"24\",\"orbital_period\":\"364\",\"diameter\":\"12500\",\"climate\":\"temperate\",\"gravity\":\"1 standard\",\"terrain\":\"grasslands, mountains\",\"surface_water\":\"40\",\"population\":\"2000000000\",\"residents\":[\"https://swapi.dev/api/people/5/\",\"https://swapi.dev/api/people/68/\",\"https://swapi.dev/api/people/81/\"],\"films\":[\"https://swapi.dev/api/films/1/\",\"https://swapi.dev/api/films/6/\"],\"created\":\"2014-12-10T11:35:48.479000Z\",\"edited\":\"2014-12-20T20:58:18.420000Z\",\"url\":\"https://swapi.dev/api/planets/2/\"},{\"name\":\"Yavin IV\",\"rotation_period\":\"24\",\"orbital_period\":\"4818\",\"diameter\":\"10200\",\"climate\":\"temperate, tropical\",\"gravity\":\"1 standard\",\"terrain\":\"jungle, rainforests\",\"surface_water\":\"8\",\"population\":\"1000\",\"residents\":[],\"films\":[\"https://swapi.dev/api/films/1/\"],\"created\":\"2014-12-10T11:37:19.144000Z\",\"edited\":\"2014-12-20T20:58:18.421000Z\",\"url\":\"https://swapi.dev/api/planets/3/\"},{\"name\":\"Hoth\",\"rotation_period\":\"23\",\"orbital_period\":\"549\",\"diameter\":\"7200\",\"climate\":\"frozen\",\"gravity\":\"1.1 standard\",\"terrain\":\"tundra, ice caves, mountain ranges\",\"surface_water\":\"100\",\"population\":\"unknown\",\"residents\":[],\"films\":[\"https://swapi.dev/api/films/2/\"],\"created\":\"2014-12-10T11:39:13.934000Z\",\"edited\":\"2014-12-20T20:58:18.423000Z\",\"url\":\"https://swapi.dev/api/planets/4/\"},{\"name\":\"Dagobah\",\"rotation_period\":\"23\",\"orbital_period\":\"341\",\"diameter\":\"8900\",\"climate\":\"murky\",\"gravity\":\"N/A\",\"terrain\":\"swamp, jungles\",\"surface_water\":\"8\",\"population\":\"unknown\",\"residents\":[],\"films\":[\"https://swapi.dev/api/films/2/\",\"https://swapi.dev/api/films/3/\",\"https://swapi.dev/api/films/6/\"],\"created\":\"2014-12-10T11:42:22.590000Z\",\"edited\":\"2014-12-20T20:58:18.425000Z\",\"url\":\"https://swapi.dev/api/planets/5/\"},{\"name\":\"Bespin\",\"rotation_period\":\"12\",\"orbital_period\":\"5110\",\"diameter\":\"118000\",\"climate\":\"temperate\",\"gravity\":\"1.5 (surface), 1 standard (Cloud City)\",\"terrain\":\"gas giant\",\"surface_water\":\"0\",\"population\":\"6000000\",\"residents\":[\"https://swapi.dev/api/people/26/\"],\"films\":[\"https://swapi.dev/api/films/2/\"],\"created\":\"2014-12-10T11:43:55.240000Z\",\"edited\":\"2014-12-20T20:58:18.427000Z\",\"url\":\"https://swapi.dev/api/planets/6/\"},{\"name\":\"Endor\",\"rotation_period\":\"18\",\"orbital_period\":\"402\",\"diameter\":\"4900\",\"climate\":\"temperate\",\"gravity\":\"0.85 standard\",\"terrain\":\"forests, mountains, lakes\",\"surface_water\":\"8\",\"population\":\"30000000\",\"residents\":[\"https://swapi.dev/api/people/30/\"],\"films\":[\"https://swapi.dev/api/films/3/\"],\"created\":\"2014-12-10T11:50:29.349000Z\",\"edited\":\"2014-12-20T20:58:18.429000Z\",\"url\":\"https://swapi.dev/api/planets/7/\"},{\"name\":\"Naboo\",\"rotation_period\":\"26\",\"orbital_period\":\"312\",\"diameter\":\"12120\",\"climate\":\"temperate\",\"gravity\":\"1 standard\",\"terrain\":\"grassy hills, swamps, forests, mountains\",\"surface_water\":\"12\",\"population\":\"4500000000\",\"residents\":[\"https://swapi.dev/api/people/3/\",\"https://swapi.dev/api/people/21/\",\"https://swapi.dev/api/people/35/\",\"https://swapi.dev/api/people/36/\",\"https://swapi.dev/api/people/37/\",\"https://swapi.dev/api/people/38/\",\"https://swapi.dev/api/people/39/\",\"https://swapi.dev/api/people/42/\",\"https://swapi.dev/api/people/60/\",\"https://swapi.dev/api/people/61/\",\"https://swapi.dev/api/people/66/\"],\"films\":[\"https://swapi.dev/api/films/3/\",\"https://swapi.dev/api/films/4/\",\"https://swapi.dev/api/films/5/\",\"https://swapi.dev/api/films/6/\"],\"created\":\"2014-12-10T11:52:31.066000Z\",\"edited\":\"2014-12-20T20:58:18.430000Z\",\"url\":\"https://swapi.dev/api/planets/8/\"},{\"name\":\"Coruscant\",\"rotation_period\":\"24\",\"orbital_period\":\"368\",\"diameter\":\"12240\",\"climate\":\"temperate\",\"gravity\":\"1 standard\",\"terrain\":\"cityscape, mountains\",\"surface_water\":\"unknown\",\"population\":\"1000000000000\",\"residents\":[\"https://swapi.dev/api/people/34/\",\"https://swapi.dev/api/people/55/\",\"https://swapi.dev/api/people/74/\"],\"films\":[\"https://swapi.dev/api/films/3/\",\"https://swapi.dev/api/films/4/\",\"https://swapi.dev/api/films/5/\",\"https://swapi.dev/api/films/6/\"],\"created\":\"2014-12-10T11:54:13.921000Z\",\"edited\":\"2014-12-20T20:58:18.432000Z\",\"url\":\"https://swapi.dev/api/planets/9/\"},{\"name\":\"Kamino\",\"rotation_period\":\"27\",\"orbital_period\":\"463\",\"diameter\":\"19720\",\"climate\":\"temperate\",\"gravity\":\"1 standard\",\"terrain\":\"ocean\",\"surface_water\":\"100\",\"population\":\"1000000000\",\"residents\":[\"https://swapi.dev/api/people/22/\",\"https://swapi.dev/api/people/72/\",\"https://swapi.dev/api/people/73/\"],\"films\":[\"https://swapi.dev/api/films/5/\"],\"created\":\"2014-12-10T12:45:06.577000Z\",\"edited\":\"2014-12-20T20:58:18.434000Z\",\"url\":\"https://swapi.dev/api/planets/10/\"}]}\n"
     ]
    }
   ],
   "source": [
    "response_2 = requests.get('https://swapi.dev/api/planets')\n",
    "print(response_2.text)"
   ]
  },
  {
   "cell_type": "code",
   "execution_count": 22,
   "id": "db0b44fa",
   "metadata": {
    "scrolled": true
   },
   "outputs": [
    {
     "data": {
      "text/plain": [
       "{'count': 60,\n",
       " 'next': 'https://swapi.dev/api/planets/?page=2',\n",
       " 'previous': None,\n",
       " 'results': [{'name': 'Tatooine',\n",
       "   'rotation_period': '23',\n",
       "   'orbital_period': '304',\n",
       "   'diameter': '10465',\n",
       "   'climate': 'arid',\n",
       "   'gravity': '1 standard',\n",
       "   'terrain': 'desert',\n",
       "   'surface_water': '1',\n",
       "   'population': '200000',\n",
       "   'residents': ['https://swapi.dev/api/people/1/',\n",
       "    'https://swapi.dev/api/people/2/',\n",
       "    'https://swapi.dev/api/people/4/',\n",
       "    'https://swapi.dev/api/people/6/',\n",
       "    'https://swapi.dev/api/people/7/',\n",
       "    'https://swapi.dev/api/people/8/',\n",
       "    'https://swapi.dev/api/people/9/',\n",
       "    'https://swapi.dev/api/people/11/',\n",
       "    'https://swapi.dev/api/people/43/',\n",
       "    'https://swapi.dev/api/people/62/'],\n",
       "   'films': ['https://swapi.dev/api/films/1/',\n",
       "    'https://swapi.dev/api/films/3/',\n",
       "    'https://swapi.dev/api/films/4/',\n",
       "    'https://swapi.dev/api/films/5/',\n",
       "    'https://swapi.dev/api/films/6/'],\n",
       "   'created': '2014-12-09T13:50:49.641000Z',\n",
       "   'edited': '2014-12-20T20:58:18.411000Z',\n",
       "   'url': 'https://swapi.dev/api/planets/1/'},\n",
       "  {'name': 'Alderaan',\n",
       "   'rotation_period': '24',\n",
       "   'orbital_period': '364',\n",
       "   'diameter': '12500',\n",
       "   'climate': 'temperate',\n",
       "   'gravity': '1 standard',\n",
       "   'terrain': 'grasslands, mountains',\n",
       "   'surface_water': '40',\n",
       "   'population': '2000000000',\n",
       "   'residents': ['https://swapi.dev/api/people/5/',\n",
       "    'https://swapi.dev/api/people/68/',\n",
       "    'https://swapi.dev/api/people/81/'],\n",
       "   'films': ['https://swapi.dev/api/films/1/',\n",
       "    'https://swapi.dev/api/films/6/'],\n",
       "   'created': '2014-12-10T11:35:48.479000Z',\n",
       "   'edited': '2014-12-20T20:58:18.420000Z',\n",
       "   'url': 'https://swapi.dev/api/planets/2/'},\n",
       "  {'name': 'Yavin IV',\n",
       "   'rotation_period': '24',\n",
       "   'orbital_period': '4818',\n",
       "   'diameter': '10200',\n",
       "   'climate': 'temperate, tropical',\n",
       "   'gravity': '1 standard',\n",
       "   'terrain': 'jungle, rainforests',\n",
       "   'surface_water': '8',\n",
       "   'population': '1000',\n",
       "   'residents': [],\n",
       "   'films': ['https://swapi.dev/api/films/1/'],\n",
       "   'created': '2014-12-10T11:37:19.144000Z',\n",
       "   'edited': '2014-12-20T20:58:18.421000Z',\n",
       "   'url': 'https://swapi.dev/api/planets/3/'},\n",
       "  {'name': 'Hoth',\n",
       "   'rotation_period': '23',\n",
       "   'orbital_period': '549',\n",
       "   'diameter': '7200',\n",
       "   'climate': 'frozen',\n",
       "   'gravity': '1.1 standard',\n",
       "   'terrain': 'tundra, ice caves, mountain ranges',\n",
       "   'surface_water': '100',\n",
       "   'population': 'unknown',\n",
       "   'residents': [],\n",
       "   'films': ['https://swapi.dev/api/films/2/'],\n",
       "   'created': '2014-12-10T11:39:13.934000Z',\n",
       "   'edited': '2014-12-20T20:58:18.423000Z',\n",
       "   'url': 'https://swapi.dev/api/planets/4/'},\n",
       "  {'name': 'Dagobah',\n",
       "   'rotation_period': '23',\n",
       "   'orbital_period': '341',\n",
       "   'diameter': '8900',\n",
       "   'climate': 'murky',\n",
       "   'gravity': 'N/A',\n",
       "   'terrain': 'swamp, jungles',\n",
       "   'surface_water': '8',\n",
       "   'population': 'unknown',\n",
       "   'residents': [],\n",
       "   'films': ['https://swapi.dev/api/films/2/',\n",
       "    'https://swapi.dev/api/films/3/',\n",
       "    'https://swapi.dev/api/films/6/'],\n",
       "   'created': '2014-12-10T11:42:22.590000Z',\n",
       "   'edited': '2014-12-20T20:58:18.425000Z',\n",
       "   'url': 'https://swapi.dev/api/planets/5/'},\n",
       "  {'name': 'Bespin',\n",
       "   'rotation_period': '12',\n",
       "   'orbital_period': '5110',\n",
       "   'diameter': '118000',\n",
       "   'climate': 'temperate',\n",
       "   'gravity': '1.5 (surface), 1 standard (Cloud City)',\n",
       "   'terrain': 'gas giant',\n",
       "   'surface_water': '0',\n",
       "   'population': '6000000',\n",
       "   'residents': ['https://swapi.dev/api/people/26/'],\n",
       "   'films': ['https://swapi.dev/api/films/2/'],\n",
       "   'created': '2014-12-10T11:43:55.240000Z',\n",
       "   'edited': '2014-12-20T20:58:18.427000Z',\n",
       "   'url': 'https://swapi.dev/api/planets/6/'},\n",
       "  {'name': 'Endor',\n",
       "   'rotation_period': '18',\n",
       "   'orbital_period': '402',\n",
       "   'diameter': '4900',\n",
       "   'climate': 'temperate',\n",
       "   'gravity': '0.85 standard',\n",
       "   'terrain': 'forests, mountains, lakes',\n",
       "   'surface_water': '8',\n",
       "   'population': '30000000',\n",
       "   'residents': ['https://swapi.dev/api/people/30/'],\n",
       "   'films': ['https://swapi.dev/api/films/3/'],\n",
       "   'created': '2014-12-10T11:50:29.349000Z',\n",
       "   'edited': '2014-12-20T20:58:18.429000Z',\n",
       "   'url': 'https://swapi.dev/api/planets/7/'},\n",
       "  {'name': 'Naboo',\n",
       "   'rotation_period': '26',\n",
       "   'orbital_period': '312',\n",
       "   'diameter': '12120',\n",
       "   'climate': 'temperate',\n",
       "   'gravity': '1 standard',\n",
       "   'terrain': 'grassy hills, swamps, forests, mountains',\n",
       "   'surface_water': '12',\n",
       "   'population': '4500000000',\n",
       "   'residents': ['https://swapi.dev/api/people/3/',\n",
       "    'https://swapi.dev/api/people/21/',\n",
       "    'https://swapi.dev/api/people/35/',\n",
       "    'https://swapi.dev/api/people/36/',\n",
       "    'https://swapi.dev/api/people/37/',\n",
       "    'https://swapi.dev/api/people/38/',\n",
       "    'https://swapi.dev/api/people/39/',\n",
       "    'https://swapi.dev/api/people/42/',\n",
       "    'https://swapi.dev/api/people/60/',\n",
       "    'https://swapi.dev/api/people/61/',\n",
       "    'https://swapi.dev/api/people/66/'],\n",
       "   'films': ['https://swapi.dev/api/films/3/',\n",
       "    'https://swapi.dev/api/films/4/',\n",
       "    'https://swapi.dev/api/films/5/',\n",
       "    'https://swapi.dev/api/films/6/'],\n",
       "   'created': '2014-12-10T11:52:31.066000Z',\n",
       "   'edited': '2014-12-20T20:58:18.430000Z',\n",
       "   'url': 'https://swapi.dev/api/planets/8/'},\n",
       "  {'name': 'Coruscant',\n",
       "   'rotation_period': '24',\n",
       "   'orbital_period': '368',\n",
       "   'diameter': '12240',\n",
       "   'climate': 'temperate',\n",
       "   'gravity': '1 standard',\n",
       "   'terrain': 'cityscape, mountains',\n",
       "   'surface_water': 'unknown',\n",
       "   'population': '1000000000000',\n",
       "   'residents': ['https://swapi.dev/api/people/34/',\n",
       "    'https://swapi.dev/api/people/55/',\n",
       "    'https://swapi.dev/api/people/74/'],\n",
       "   'films': ['https://swapi.dev/api/films/3/',\n",
       "    'https://swapi.dev/api/films/4/',\n",
       "    'https://swapi.dev/api/films/5/',\n",
       "    'https://swapi.dev/api/films/6/'],\n",
       "   'created': '2014-12-10T11:54:13.921000Z',\n",
       "   'edited': '2014-12-20T20:58:18.432000Z',\n",
       "   'url': 'https://swapi.dev/api/planets/9/'},\n",
       "  {'name': 'Kamino',\n",
       "   'rotation_period': '27',\n",
       "   'orbital_period': '463',\n",
       "   'diameter': '19720',\n",
       "   'climate': 'temperate',\n",
       "   'gravity': '1 standard',\n",
       "   'terrain': 'ocean',\n",
       "   'surface_water': '100',\n",
       "   'population': '1000000000',\n",
       "   'residents': ['https://swapi.dev/api/people/22/',\n",
       "    'https://swapi.dev/api/people/72/',\n",
       "    'https://swapi.dev/api/people/73/'],\n",
       "   'films': ['https://swapi.dev/api/films/5/'],\n",
       "   'created': '2014-12-10T12:45:06.577000Z',\n",
       "   'edited': '2014-12-20T20:58:18.434000Z',\n",
       "   'url': 'https://swapi.dev/api/planets/10/'}]}"
      ]
     },
     "execution_count": 22,
     "metadata": {},
     "output_type": "execute_result"
    }
   ],
   "source": [
    "data_planets = response_2.json()\n",
    "data_planets"
   ]
  },
  {
   "cell_type": "code",
   "execution_count": 21,
   "id": "fe92b651",
   "metadata": {
    "scrolled": true
   },
   "outputs": [
    {
     "data": {
      "text/html": [
       "<div>\n",
       "<style scoped>\n",
       "    .dataframe tbody tr th:only-of-type {\n",
       "        vertical-align: middle;\n",
       "    }\n",
       "\n",
       "    .dataframe tbody tr th {\n",
       "        vertical-align: top;\n",
       "    }\n",
       "\n",
       "    .dataframe thead th {\n",
       "        text-align: right;\n",
       "    }\n",
       "</style>\n",
       "<table border=\"1\" class=\"dataframe\">\n",
       "  <thead>\n",
       "    <tr style=\"text-align: right;\">\n",
       "      <th></th>\n",
       "      <th>count</th>\n",
       "      <th>next</th>\n",
       "      <th>previous</th>\n",
       "      <th>results</th>\n",
       "    </tr>\n",
       "  </thead>\n",
       "  <tbody>\n",
       "    <tr>\n",
       "      <th>0</th>\n",
       "      <td>60</td>\n",
       "      <td>https://swapi.dev/api/planets/?page=2</td>\n",
       "      <td>None</td>\n",
       "      <td>{'name': 'Tatooine', 'rotation_period': '23', ...</td>\n",
       "    </tr>\n",
       "    <tr>\n",
       "      <th>1</th>\n",
       "      <td>60</td>\n",
       "      <td>https://swapi.dev/api/planets/?page=2</td>\n",
       "      <td>None</td>\n",
       "      <td>{'name': 'Alderaan', 'rotation_period': '24', ...</td>\n",
       "    </tr>\n",
       "    <tr>\n",
       "      <th>2</th>\n",
       "      <td>60</td>\n",
       "      <td>https://swapi.dev/api/planets/?page=2</td>\n",
       "      <td>None</td>\n",
       "      <td>{'name': 'Yavin IV', 'rotation_period': '24', ...</td>\n",
       "    </tr>\n",
       "    <tr>\n",
       "      <th>3</th>\n",
       "      <td>60</td>\n",
       "      <td>https://swapi.dev/api/planets/?page=2</td>\n",
       "      <td>None</td>\n",
       "      <td>{'name': 'Hoth', 'rotation_period': '23', 'orb...</td>\n",
       "    </tr>\n",
       "    <tr>\n",
       "      <th>4</th>\n",
       "      <td>60</td>\n",
       "      <td>https://swapi.dev/api/planets/?page=2</td>\n",
       "      <td>None</td>\n",
       "      <td>{'name': 'Dagobah', 'rotation_period': '23', '...</td>\n",
       "    </tr>\n",
       "    <tr>\n",
       "      <th>5</th>\n",
       "      <td>60</td>\n",
       "      <td>https://swapi.dev/api/planets/?page=2</td>\n",
       "      <td>None</td>\n",
       "      <td>{'name': 'Bespin', 'rotation_period': '12', 'o...</td>\n",
       "    </tr>\n",
       "    <tr>\n",
       "      <th>6</th>\n",
       "      <td>60</td>\n",
       "      <td>https://swapi.dev/api/planets/?page=2</td>\n",
       "      <td>None</td>\n",
       "      <td>{'name': 'Endor', 'rotation_period': '18', 'or...</td>\n",
       "    </tr>\n",
       "    <tr>\n",
       "      <th>7</th>\n",
       "      <td>60</td>\n",
       "      <td>https://swapi.dev/api/planets/?page=2</td>\n",
       "      <td>None</td>\n",
       "      <td>{'name': 'Naboo', 'rotation_period': '26', 'or...</td>\n",
       "    </tr>\n",
       "    <tr>\n",
       "      <th>8</th>\n",
       "      <td>60</td>\n",
       "      <td>https://swapi.dev/api/planets/?page=2</td>\n",
       "      <td>None</td>\n",
       "      <td>{'name': 'Coruscant', 'rotation_period': '24',...</td>\n",
       "    </tr>\n",
       "    <tr>\n",
       "      <th>9</th>\n",
       "      <td>60</td>\n",
       "      <td>https://swapi.dev/api/planets/?page=2</td>\n",
       "      <td>None</td>\n",
       "      <td>{'name': 'Kamino', 'rotation_period': '27', 'o...</td>\n",
       "    </tr>\n",
       "  </tbody>\n",
       "</table>\n",
       "</div>"
      ],
      "text/plain": [
       "   count                                   next previous  \\\n",
       "0     60  https://swapi.dev/api/planets/?page=2     None   \n",
       "1     60  https://swapi.dev/api/planets/?page=2     None   \n",
       "2     60  https://swapi.dev/api/planets/?page=2     None   \n",
       "3     60  https://swapi.dev/api/planets/?page=2     None   \n",
       "4     60  https://swapi.dev/api/planets/?page=2     None   \n",
       "5     60  https://swapi.dev/api/planets/?page=2     None   \n",
       "6     60  https://swapi.dev/api/planets/?page=2     None   \n",
       "7     60  https://swapi.dev/api/planets/?page=2     None   \n",
       "8     60  https://swapi.dev/api/planets/?page=2     None   \n",
       "9     60  https://swapi.dev/api/planets/?page=2     None   \n",
       "\n",
       "                                             results  \n",
       "0  {'name': 'Tatooine', 'rotation_period': '23', ...  \n",
       "1  {'name': 'Alderaan', 'rotation_period': '24', ...  \n",
       "2  {'name': 'Yavin IV', 'rotation_period': '24', ...  \n",
       "3  {'name': 'Hoth', 'rotation_period': '23', 'orb...  \n",
       "4  {'name': 'Dagobah', 'rotation_period': '23', '...  \n",
       "5  {'name': 'Bespin', 'rotation_period': '12', 'o...  \n",
       "6  {'name': 'Endor', 'rotation_period': '18', 'or...  \n",
       "7  {'name': 'Naboo', 'rotation_period': '26', 'or...  \n",
       "8  {'name': 'Coruscant', 'rotation_period': '24',...  \n",
       "9  {'name': 'Kamino', 'rotation_period': '27', 'o...  "
      ]
     },
     "execution_count": 21,
     "metadata": {},
     "output_type": "execute_result"
    }
   ],
   "source": [
    "df_planets = pd.DataFrame(data_planets)\n",
    "df_planets"
   ]
  },
  {
   "cell_type": "code",
   "execution_count": 10,
   "id": "4b34ee58",
   "metadata": {},
   "outputs": [
    {
     "data": {
      "text/html": [
       "<div>\n",
       "<style scoped>\n",
       "    .dataframe tbody tr th:only-of-type {\n",
       "        vertical-align: middle;\n",
       "    }\n",
       "\n",
       "    .dataframe tbody tr th {\n",
       "        vertical-align: top;\n",
       "    }\n",
       "\n",
       "    .dataframe thead th {\n",
       "        text-align: right;\n",
       "    }\n",
       "</style>\n",
       "<table border=\"1\" class=\"dataframe\">\n",
       "  <thead>\n",
       "    <tr style=\"text-align: right;\">\n",
       "      <th></th>\n",
       "      <th>count</th>\n",
       "      <th>next</th>\n",
       "      <th>previous</th>\n",
       "      <th>results</th>\n",
       "    </tr>\n",
       "  </thead>\n",
       "  <tbody>\n",
       "    <tr>\n",
       "      <th>0</th>\n",
       "      <td>60</td>\n",
       "      <td>https://swapi.dev/api/planets/?page=2</td>\n",
       "      <td>None</td>\n",
       "      <td>{'name': 'Tatooine', 'rotation_period': '23', ...</td>\n",
       "    </tr>\n",
       "    <tr>\n",
       "      <th>1</th>\n",
       "      <td>60</td>\n",
       "      <td>https://swapi.dev/api/planets/?page=2</td>\n",
       "      <td>None</td>\n",
       "      <td>{'name': 'Alderaan', 'rotation_period': '24', ...</td>\n",
       "    </tr>\n",
       "    <tr>\n",
       "      <th>2</th>\n",
       "      <td>60</td>\n",
       "      <td>https://swapi.dev/api/planets/?page=2</td>\n",
       "      <td>None</td>\n",
       "      <td>{'name': 'Yavin IV', 'rotation_period': '24', ...</td>\n",
       "    </tr>\n",
       "    <tr>\n",
       "      <th>3</th>\n",
       "      <td>60</td>\n",
       "      <td>https://swapi.dev/api/planets/?page=2</td>\n",
       "      <td>None</td>\n",
       "      <td>{'name': 'Hoth', 'rotation_period': '23', 'orb...</td>\n",
       "    </tr>\n",
       "    <tr>\n",
       "      <th>4</th>\n",
       "      <td>60</td>\n",
       "      <td>https://swapi.dev/api/planets/?page=2</td>\n",
       "      <td>None</td>\n",
       "      <td>{'name': 'Dagobah', 'rotation_period': '23', '...</td>\n",
       "    </tr>\n",
       "  </tbody>\n",
       "</table>\n",
       "</div>"
      ],
      "text/plain": [
       "   count                                   next previous  \\\n",
       "0     60  https://swapi.dev/api/planets/?page=2     None   \n",
       "1     60  https://swapi.dev/api/planets/?page=2     None   \n",
       "2     60  https://swapi.dev/api/planets/?page=2     None   \n",
       "3     60  https://swapi.dev/api/planets/?page=2     None   \n",
       "4     60  https://swapi.dev/api/planets/?page=2     None   \n",
       "\n",
       "                                             results  \n",
       "0  {'name': 'Tatooine', 'rotation_period': '23', ...  \n",
       "1  {'name': 'Alderaan', 'rotation_period': '24', ...  \n",
       "2  {'name': 'Yavin IV', 'rotation_period': '24', ...  \n",
       "3  {'name': 'Hoth', 'rotation_period': '23', 'orb...  \n",
       "4  {'name': 'Dagobah', 'rotation_period': '23', '...  "
      ]
     },
     "execution_count": 10,
     "metadata": {},
     "output_type": "execute_result"
    }
   ],
   "source": [
    "df_planets.head()"
   ]
  },
  {
   "cell_type": "code",
   "execution_count": 15,
   "id": "26ba5ee8",
   "metadata": {
    "scrolled": true
   },
   "outputs": [],
   "source": [
    "#concat the different datasets\n",
    "\n",
    "starwars_df = pd.merge(df_planets, df_people, on='previous')\n"
   ]
  },
  {
   "cell_type": "code",
   "execution_count": 18,
   "id": "b8f862d7",
   "metadata": {},
   "outputs": [
    {
     "data": {
      "text/plain": [
       "(100, 7)"
      ]
     },
     "execution_count": 18,
     "metadata": {},
     "output_type": "execute_result"
    }
   ],
   "source": [
    "starwars_df.shape"
   ]
  },
  {
   "cell_type": "code",
   "execution_count": null,
   "id": "be9307e1",
   "metadata": {},
   "outputs": [],
   "source": []
  },
  {
   "cell_type": "code",
   "execution_count": 16,
   "id": "7e4bff6d",
   "metadata": {},
   "outputs": [],
   "source": [
    "output_csv_path = 'starwars_df.csv'\n"
   ]
  },
  {
   "cell_type": "code",
   "execution_count": 17,
   "id": "5a76073d",
   "metadata": {},
   "outputs": [],
   "source": [
    "starwars_df.to_csv(output_csv_path, index=False)\n"
   ]
  },
  {
   "cell_type": "code",
   "execution_count": 20,
   "id": "b8adf1d4",
   "metadata": {},
   "outputs": [],
   "source": [
    "base_url = 'https://swapi.dev/api/'"
   ]
  },
  {
   "cell_type": "markdown",
   "id": "6417c1db",
   "metadata": {},
   "source": [
    "### #1"
   ]
  },
  {
   "cell_type": "code",
   "execution_count": null,
   "id": "3218843d",
   "metadata": {},
   "outputs": [],
   "source": [
    "requests.get(ppl_url + \"?page=1\").json()['results'][0]['films']"
   ]
  },
  {
   "cell_type": "code",
   "execution_count": null,
   "id": "714819d9",
   "metadata": {},
   "outputs": [],
   "source": [
    "requests.get(ppl_url + \"?page=1\").json()['results'][0]"
   ]
  },
  {
   "cell_type": "code",
   "execution_count": null,
   "id": "add30d06",
   "metadata": {},
   "outputs": [],
   "source": [
    "for i in range(3):\n",
    "    print(ppl_url + f\"?page={i+1}\")"
   ]
  },
  {
   "cell_type": "code",
   "execution_count": 23,
   "id": "894ee9db",
   "metadata": {},
   "outputs": [],
   "source": [
    "import math\n",
    "from pprint import pprint"
   ]
  },
  {
   "cell_type": "code",
   "execution_count": null,
   "id": "65eefdd9",
   "metadata": {},
   "outputs": [],
   "source": [
    "#Here we are creating the loop to that will pull all the pages for people\n",
    "\n",
    "page_results = []\n",
    "\n",
    "requests.get(ppl_url + f\"?page=1\").json()\n",
    "number_of_people = data1['count']\n",
    "number_of_results = len(data1['results'])\n",
    "\n",
    "max_page = math.ceil(number_of_people / number_of_results)\n",
    "\n",
    "#print(max_page)\n",
    "\n",
    "\n",
    "for i in range(max_page):\n",
    "    ppl_pg = ppl_url + f\"?page={i+1}\"\n",
    "    #print(ppl_pg)\n",
    "    data = requests.get(ppl_pg).json()\n",
    "    #print(data['results'])\n",
    "    for r in range(len(data['results'])):\n",
    "        person = data['results'][r]\n",
    "        page_results.append(person)\n",
    "pprint(page_results)"
   ]
  },
  {
   "cell_type": "code",
   "execution_count": null,
   "id": "de503859",
   "metadata": {},
   "outputs": [],
   "source": [
    "# Here we will turn that loop result into a dataframe"
   ]
  },
  {
   "cell_type": "markdown",
   "id": "d8b6678b",
   "metadata": {},
   "source": [
    "### #2"
   ]
  },
  {
   "cell_type": "code",
   "execution_count": null,
   "id": "ef26863f",
   "metadata": {},
   "outputs": [],
   "source": [
    "#Here we will create a function\n",
    "\n",
    "planet_url = base_url + \"planets/\""
   ]
  },
  {
   "cell_type": "code",
   "execution_count": null,
   "id": "85922d2a",
   "metadata": {},
   "outputs": [],
   "source": [
    "response = requests.get(planet_url)\n",
    "data = response.json()"
   ]
  },
  {
   "cell_type": "code",
   "execution_count": null,
   "id": "76bd9209",
   "metadata": {},
   "outputs": [],
   "source": [
    "planets_df = pd.DataFrame(data['results'])"
   ]
  },
  {
   "cell_type": "code",
   "execution_count": null,
   "id": "9b8d7742",
   "metadata": {},
   "outputs": [],
   "source": [
    "planet_df.info()"
   ]
  },
  {
   "cell_type": "code",
   "execution_count": null,
   "id": "2f597153",
   "metadata": {},
   "outputs": [],
   "source": [
    "#while loop created for planets, and turned into a dataframe\n",
    "while data['next'] != None:\n",
    "    #print(data['next'])\n",
    "    response = requests.get(data['next'])\n",
    "    data = response.json()\n",
    "    planet_df = pd.concat([planet_df, pd.DataFrame(data['results'])], ignore_index=True)"
   ]
  },
  {
   "cell_type": "code",
   "execution_count": null,
   "id": "2a1ce0d2",
   "metadata": {},
   "outputs": [],
   "source": [
    "planet_df.info()"
   ]
  },
  {
   "cell_type": "markdown",
   "id": "85024b68",
   "metadata": {},
   "source": [
    "### #3"
   ]
  },
  {
   "cell_type": "code",
   "execution_count": null,
   "id": "5bf9e917",
   "metadata": {},
   "outputs": [],
   "source": [
    "ships_url = base_url + \"starships/\""
   ]
  },
  {
   "cell_type": "code",
   "execution_count": null,
   "id": "8a5deebd",
   "metadata": {},
   "outputs": [],
   "source": [
    "response = requests.get(ships_url)\n",
    "starships = respons.json()"
   ]
  },
  {
   "cell_type": "code",
   "execution_count": null,
   "id": "fb6f7735",
   "metadata": {},
   "outputs": [],
   "source": [
    "while data['next'] != None:\n",
    "    print(data['next'])\n",
    "    response = requests.get(data['next'])\n",
    "    data = response.json()\n",
    "    starships_df = pd.concat([starships_df, pd.DataFrmae(data['results'])], ignore_index=True)"
   ]
  },
  {
   "cell_type": "code",
   "execution_count": null,
   "id": "5403489c",
   "metadata": {},
   "outputs": [],
   "source": [
    "starships_df.info()"
   ]
  },
  {
   "cell_type": "markdown",
   "id": "33509a38",
   "metadata": {},
   "source": [
    "### #4"
   ]
  },
  {
   "cell_type": "code",
   "execution_count": null,
   "id": "02015d7e",
   "metadata": {},
   "outputs": [],
   "source": [
    "def get_swapi_data(endpoint):\n",
    "    \"\"\"\n",
    "    \n",
    "    \"\"\"\n",
    "    \n",
    "    base_url = \"https://swapi.dev/api/\"\n",
    "    \n",
    "    if os.path.isfile(f\"{endpoint}.csv\"):\n",
    "        df = pd.read_csv(f\"{endpoint}.csv\", index_col=0)\n",
    "        \n",
    "    else:\n",
    "        response = requests.get(base_url + endpoint + \"/\")\n",
    "        data = response.json()\n",
    "        df = pd.DataFrame(data['results'])\n",
    "        \n",
    "        while data['next'] != None:\n",
    "            print(data['next'])\n",
    "            response = requests.get(data['next'])\n",
    "            data = response.json()\n",
    "            df = pd.concat([df, pd.DataFrmae(data['results'])], ignore_index=True)\n",
    "        df.to_csv(f\"{endpoint}.csv\")\n",
    "        \n",
    "    return df"
   ]
  },
  {
   "cell_type": "code",
   "execution_count": null,
   "id": "7fa90595",
   "metadata": {},
   "outputs": [],
   "source": [
    "starship = get_swapi_data(\"starships\")\n",
    "starships.head()"
   ]
  },
  {
   "cell_type": "markdown",
   "id": "8b6e4b52",
   "metadata": {},
   "source": [
    "### #5"
   ]
  },
  {
   "cell_type": "code",
   "execution_count": null,
   "id": "5190972b",
   "metadata": {},
   "outputs": [],
   "source": [
    "sw_ppl_planets_ships_df = pd.concat([people, planet, starship], axis=0)\n",
    "sw_ppl_planets_ships_df.head(3)"
   ]
  },
  {
   "cell_type": "markdown",
   "id": "2cd52fdc",
   "metadata": {},
   "source": [
    "### #6"
   ]
  },
  {
   "cell_type": "code",
   "execution_count": null,
   "id": "75f362c7",
   "metadata": {},
   "outputs": [],
   "source": []
  },
  {
   "cell_type": "code",
   "execution_count": null,
   "id": "a23625d7",
   "metadata": {},
   "outputs": [],
   "source": []
  }
 ],
 "metadata": {
  "kernelspec": {
   "display_name": "Python 3 (ipykernel)",
   "language": "python",
   "name": "python3"
  },
  "language_info": {
   "codemirror_mode": {
    "name": "ipython",
    "version": 3
   },
   "file_extension": ".py",
   "mimetype": "text/x-python",
   "name": "python",
   "nbconvert_exporter": "python",
   "pygments_lexer": "ipython3",
   "version": "3.9.13"
  }
 },
 "nbformat": 4,
 "nbformat_minor": 5
}
